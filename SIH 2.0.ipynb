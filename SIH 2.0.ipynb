{
 "cells": [
  {
   "cell_type": "markdown",
   "metadata": {},
   "source": [
    "# Smart India Hachathon'2019\n",
    "## Prolem Statement: Predictive analysis of pharmaceutical equipment\n",
    "## Team name: Machhali eleven 360, Rank #2 in grand finale at Oriental University, Indore\n",
    "### IIT Bhubaneswar\n",
    "### Team member\n",
    "* Basant Kumar\n",
    "* Kumari Partibha\n",
    "* Anand Prakash\n",
    "* Pawan Saini\n",
    "* Kumar Ankul\n",
    "* Gourav Barnwal\n",
    "### Mentor\n",
    "* Dr. Adway Mitra\n",
    "* Dr. Nilgiri Puhan"
   ]
  },
  {
   "cell_type": "markdown",
   "metadata": {},
   "source": [
    "# First preprocessing of data is done, then training of each model with the dataset followed by testing"
   ]
  },
  {
   "cell_type": "code",
   "execution_count": 45,
   "metadata": {},
   "outputs": [
    {
     "name": "stderr",
     "output_type": "stream",
     "text": [
      "C:\\Users\\Basant\\Anaconda3\\lib\\site-packages\\sklearn\\utils\\validation.py:578: DataConversionWarning: A column-vector y was passed when a 1d array was expected. Please change the shape of y to (n_samples, ), for example using ravel().\n",
      "  y = column_or_1d(y, warn=True)\n",
      "C:\\Users\\Basant\\Anaconda3\\lib\\site-packages\\ipykernel\\__main__.py:54: DataConversionWarning: A column-vector y was passed when a 1d array was expected. Please change the shape of y to (n_samples,), for example using ravel().\n",
      "C:\\Users\\Basant\\Anaconda3\\lib\\site-packages\\ipykernel\\__main__.py:59: DataConversionWarning: A column-vector y was passed when a 1d array was expected. Please change the shape of y to (n_samples, ), for example using ravel().\n",
      "C:\\Users\\Basant\\Anaconda3\\lib\\site-packages\\sklearn\\utils\\validation.py:578: DataConversionWarning: A column-vector y was passed when a 1d array was expected. Please change the shape of y to (n_samples, ), for example using ravel().\n",
      "  y = column_or_1d(y, warn=True)\n"
     ]
    }
   ],
   "source": [
    "import os\n",
    "import urllib\n",
    "\n",
    "import numpy as np\n",
    "from numpy.lib.stride_tricks import as_strided\n",
    "#import matplotlib.pyplot as plt\n",
    "import scipy\n",
    "from scipy.io import wavfile\n",
    "from sklearn.model_selection import StratifiedShuffleSplit\n",
    "from hmmlearn import hmm\n",
    "import scipy.io\n",
    "#import numpy as np\n",
    "from sklearn.model_selection import train_test_split\n",
    "\n",
    "data = scipy.io.loadmat('97.mat')\n",
    "data0=scipy.io.loadmat('118.mat')\n",
    "sedaptive=50\n",
    "data1=data['X097_DE_time']\n",
    "data2=np.array(data1)\n",
    "data3=data2\n",
    "l1=int(len(data3)/sedaptive)\n",
    "data3=np.reshape(data2[:l1*sedaptive],(sedaptive,-1))\n",
    "data4=data3.T\n",
    "idx,s=data4.shape\n",
    "label1=np.full((idx,1),0)\n",
    "\n",
    "data01=data0['X118_DE_time']\n",
    "data02=np.array(data1)\n",
    "data03=data2\n",
    "l1=int(len(data03)/sedaptive)\n",
    "data03=np.reshape(data02[:l1*sedaptive],(sedaptive,-1))\n",
    "data04=data03.T\n",
    "idx,s=data04.shape\n",
    "label2=np.full((idx,1),1)\n",
    "X=np.concatenate((data4,data04),axis=0)\n",
    "Y=np.concatenate((label1,label2),axis=0)\n",
    "\n",
    "x_train, x_test, y_train, y_test = train_test_split(\n",
    "    X, Y, test_size=0.33, random_state=42)\n",
    "##\n",
    "\n",
    "from sklearn.svm import SVC\n",
    "svm_lin= SVC( kernel='linear', C =5).fit(x_train, y_train)  # for linear\n",
    "svm_rbf = SVC( kernel='rbf', C =5,gamma=0.341).fit(x_train, y_train)  # for rbf\n",
    "svm_poly = SVC( kernel='poly', C =5,gamma=0.341).fit(x_train, y_train)  # for rbf\n",
    "\n",
    "\n",
    "#svm_predictions = svm_model.predict(x_test)  \n",
    "accuracy1 = svm_lin.score(x_test, y_test)\n",
    "accuracy8 = svm_rbf.score(x_test, y_test)\n",
    "accuracy9 = svm_poly.score(x_test, y_test)\n",
    "\n",
    "from sklearn.ensemble import RandomForestClassifier                     # for rf\n",
    "dt_model=RandomForestClassifier(n_estimators =100).fit(x_train,y_train)\n",
    "accuracy2=dt_model.score(x_test,y_test)\n",
    "#print(\"RFC accuracy\",accuracy)\n",
    "\n",
    "from sklearn.neighbors import KNeighborsClassifier \n",
    "knn = KNeighborsClassifier(n_neighbors = 7).fit(x_train, y_train) \n",
    "accuracy3 = knn.score(x_test, y_test) \n",
    "\n",
    "from sklearn.naive_bayes import GaussianNB \n",
    "gnb = GaussianNB().fit(x_train, y_train) \n",
    "gnb_predictions = gnb.predict(x_test) \n",
    "accuracy4 = gnb.score(x_test, y_test) \n",
    "\n",
    "from sklearn.tree import DecisionTreeClassifier \n",
    "dtree_model = DecisionTreeClassifier(max_depth = 2).fit(x_train, y_train) \n",
    "dtree_predictions = dtree_model.predict(x_test) \n",
    "accuracy5=dtree_model.score(x_test,y_test)\n",
    "\n",
    "from sklearn.linear_model import LogisticRegression\n",
    "clf = LogisticRegression(random_state=0, solver='lbfgs',\n",
    "                         multi_class='multinomial').fit(x_train, y_train)\n",
    "dtree_predictions = clf.predict(x_test) \n",
    "\n",
    "accuracy6=clf.score(x_test,y_test)\n",
    "from sklearn.linear_model import LogisticRegression\n",
    "clf = LogisticRegression(random_state=0, solver='lbfgs',\n",
    "                         multi_class='multinomial').fit(x_train, y_train)\n",
    "dtree_predictions = clf.predict(x_test) \n",
    "accuracy7=clf.score(x_test,y_test) "
   ]
  },
  {
   "cell_type": "code",
   "execution_count": 137,
   "metadata": {},
   "outputs": [
    {
     "name": "stderr",
     "output_type": "stream",
     "text": [
      "C:\\Users\\Basant\\Anaconda3\\lib\\site-packages\\sklearn\\utils\\validation.py:578: DataConversionWarning: A column-vector y was passed when a 1d array was expected. Please change the shape of y to (n_samples, ), for example using ravel().\n",
      "  y = column_or_1d(y, warn=True)\n"
     ]
    }
   ],
   "source": [
    "svm_rbf = SVC( kernel='poly', C =1,gamma='auto',degree=8).fit(x_train, y_train)  # for rbf\n"
   ]
  },
  {
   "cell_type": "code",
   "execution_count": 51,
   "metadata": {},
   "outputs": [
    {
     "name": "stderr",
     "output_type": "stream",
     "text": [
      "C:\\Users\\Basant\\Anaconda3\\lib\\site-packages\\ipykernel\\__main__.py:2: DataConversionWarning: A column-vector y was passed when a 1d array was expected. Please change the shape of y to (n_samples,), for example using ravel().\n",
      "  from ipykernel import kernelapp as app\n"
     ]
    }
   ],
   "source": [
    "from sklearn.ensemble import RandomForestClassifier                     # for rf\n",
    "dt_model=RandomForestClassifier(n_estimators =500).fit(x_train,y_train)\n",
    "accuracy2=dt_model.score(x_test,y_test)"
   ]
  },
  {
   "cell_type": "markdown",
   "metadata": {},
   "source": [
    "## Following code evaluates the parameter like accuracy, precision, recall, f_score, prediction of each test sample and plot confusion matrix"
   ]
  },
  {
   "cell_type": "code",
   "execution_count": 164,
   "metadata": {},
   "outputs": [
    {
     "name": "stderr",
     "output_type": "stream",
     "text": [
      "C:\\Users\\Basant\\Anaconda3\\lib\\site-packages\\sklearn\\utils\\validation.py:578: DataConversionWarning: A column-vector y was passed when a 1d array was expected. Please change the shape of y to (n_samples, ), for example using ravel().\n",
      "  y = column_or_1d(y, warn=True)\n"
     ]
    },
    {
     "name": "stdout",
     "output_type": "stream",
     "text": [
      "Normalized confusion matrix\n",
      "decision of each test input [ 0.92 -0.18  0.77 ...  0.29  0.34 -0.16]\n",
      "prediction of each test input [1 0 1 ... 1 1 0]\n",
      "all data by the model svm lin\n",
      "accuracy by SVM lin 0.46614906832298136\n",
      "precision 0.466937743338242\n",
      "recall 0.46904464415641767\n",
      "fscore 0.4589668273878801\n"
     ]
    },
    {
     "data": {
      "image/png": "[encoded data removed]",
      "text/plain": [
       "<Figure size 432x288 with 2 Axes>"
      ]
     },
     "metadata": {},
     "output_type": "display_data"
    }
   ],
   "source": [
    "import os\n",
    "import urllib\n",
    "\n",
    "import numpy as np\n",
    "from numpy.lib.stride_tricks import as_strided\n",
    "import matplotlib.pyplot as plt\n",
    "import scipy\n",
    "from scipy.io import wavfile\n",
    "from sklearn.model_selection import StratifiedShuffleSplit\n",
    "from hmmlearn import hmm\n",
    "import scipy.io\n",
    "#import numpy as np\n",
    "from sklearn.model_selection import train_test_split\n",
    "\n",
    "data = scipy.io.loadmat('97.mat')\n",
    "data0=scipy.io.loadmat('118.mat')\n",
    "sedaptive=50\n",
    "data1=data['X097_DE_time']\n",
    "data2=np.array(data1)\n",
    "data3=data2\n",
    "l1=int(len(data3)/sedaptive)\n",
    "data3=np.reshape(data2[:l1*sedaptive],(sedaptive,-1))\n",
    "data4=data3.T\n",
    "idx,s=data4.shape\n",
    "label1=np.full((idx,1),0)\n",
    "\n",
    "data01=data0['X118_DE_time']\n",
    "data02=np.array(data1)\n",
    "data03=data2\n",
    "l1=int(len(data03)/sedaptive)\n",
    "data03=np.reshape(data02[:l1*sedaptive],(sedaptive,-1))\n",
    "data04=data03.T\n",
    "idx,s=data04.shape\n",
    "label2=np.full((idx,1),1)\n",
    "X=np.concatenate((data4,data04),axis=0)\n",
    "Y=np.concatenate((label1,label2),axis=0)\n",
    "\n",
    "x_train, x_test, y_train, y_test = train_test_split(\n",
    "    X, Y, test_size=0.33, random_state=42)\n",
    "\n",
    "# model\n",
    "from sklearn.svm import SVC\n",
    "svm_lin= SVC( kernel='linear', C =5).fit(x_train, y_train)  # for linear\n",
    "accuracy = svm_lin.score(x_test, y_test)\n",
    "\n",
    "def plot_confusion_matrix(y_true, y_pred, classes,\n",
    "                          normalize=False,\n",
    "                          title=None,\n",
    "                          cmap=plt.cm.Blues):\n",
    "    \"\"\"\n",
    "    This function prints and plots the confusion matrix.\n",
    "    Normalization can be applied by setting `normalize=True`.\n",
    "    \"\"\"\n",
    "    if not title:\n",
    "        if normalize:\n",
    "            title = 'Normalized confusion matrix'\n",
    "        else:\n",
    "            title = 'Confusion matrix, without normalization'\n",
    "\n",
    "    # Compute confusion matrix\n",
    "    cm = confusion_matrix(y_true, y_pred)\n",
    "    # Only use the labels that appear in the data\n",
    "    #classes = classes[unique_labels(y_true, y_pred)]\n",
    "    if normalize:\n",
    "        cm = cm.astype('float') / cm.sum(axis=1)[:, np.newaxis]\n",
    "        print(\"Normalized confusion matrix\")\n",
    "    else:\n",
    "        print('Confusion matrix, without normalization')\n",
    "\n",
    "    #print(cm)\n",
    "\n",
    "    fig, ax = plt.subplots()\n",
    "#    cv2.imwrite('newImage.png',fig)\n",
    "    im = ax.imshow(cm, interpolation='nearest', cmap=cmap)\n",
    "    ax.figure.colorbar(im, ax=ax)\n",
    "    # We want to show all ticks...\n",
    "    ax.set(xticks=np.arange(cm.shape[1]),\n",
    "           yticks=np.arange(cm.shape[0]),\n",
    "           # ... and label them with the respective list entries\n",
    "           #xticklabels=classes, yticklabels=classes,\n",
    "           title=title,\n",
    "           ylabel='True label',\n",
    "           xlabel='Predicted label')\n",
    "\n",
    "    # Rotate the tick labels and set their alignment.\n",
    "    plt.setp(ax.get_xticklabels(), rotation=45, ha=\"right\",\n",
    "             rotation_mode=\"anchor\")\n",
    "\n",
    "    # Loop over data dimensions and create text annotations.\n",
    "    fmt = '.2f' if normalize else 'd'\n",
    "    thresh = cm.max() / 2.\n",
    "    for i in range(cm.shape[0]):\n",
    "        for j in range(cm.shape[1]):\n",
    "            ax.text(j, i, format(cm[i, j], fmt),\n",
    "                    ha=\"center\", va=\"center\",\n",
    "                    color=\"white\" if cm[i, j] > thresh else \"black\")\n",
    "    fig.tight_layout()\n",
    "    return ax\n",
    "# plot cm\n",
    "\n",
    "from sklearn.metrics import confusion_matrix\n",
    "from sklearn.utils.multiclass import unique_labels\n",
    "\n",
    "import numpy as np\n",
    "import matplotlib.pyplot as plt\n",
    "\n",
    "from sklearn import svm, datasets\n",
    "from sklearn.model_selection import train_test_split\n",
    "\n",
    "from sklearn.metrics import average_precision_score\n",
    "from sklearn.metrics import precision_recall_curve\n",
    "from sklearn.metrics import accuracy_score, f1_score, precision_score, recall_score, classification_report, confusion_matrix\n",
    "\n",
    "prediction = svm_lin.predict(x_test) \n",
    "y_score = prediction\n",
    "fscore=(f1_score(y_test, y_score, average=\"macro\"))\n",
    "precision=(precision_score(y_test, y_score, average=\"macro\"))\n",
    "recall=(recall_score(y_test, y_score, average=\"macro\"))  \n",
    "\n",
    "np.set_printoptions(precision=2)\n",
    "class_names=['right','failure']\n",
    "class_names=np.array(class_names)\n",
    "# Plot non-normalized confusion matrix\n",
    "#plot_confusion_matrix(y_test, prediction, classes=class_names,\n",
    "#                      title='Confusion matrix, without normalization')\n",
    "\n",
    "# Plot normalized confusion matrix\n",
    "plot_confusion_matrix(y_test, prediction, classes=class_names, normalize=True,\n",
    "                      title='Normalized confusion matrix')\n",
    "\n",
    "decision=svm_lin.decision_function(x_test)\n",
    "print('decision of each test input',decision)\n",
    "print('prediction of each test input',prediction)\n",
    "\n",
    "print('all data by the model svm lin')\n",
    "print('accuracy by SVM lin', accuracy)\n",
    "print('precision', precision)\n",
    "print('recall', recall)\n",
    "print('fscore', fscore)\n",
    "\n",
    "\n",
    "plt.show()\n"
   ]
  },
  {
   "cell_type": "code",
   "execution_count": null,
   "metadata": {},
   "outputs": [],
   "source": []
  },
  {
   "cell_type": "code",
   "execution_count": 127,
   "metadata": {},
   "outputs": [
    {
     "name": "stdout",
     "output_type": "stream",
     "text": [
      "Normalized confusion matrix\n",
      "[[0.34 0.66]\n",
      " [0.4  0.6 ]]\n"
     ]
    },
    {
     "data": {
      "image/png": "[encoded data removed]",
      "text/plain": [
       "<Figure size 432x288 with 2 Axes>"
      ]
     },
     "metadata": {},
     "output_type": "display_data"
    }
   ],
   "source": [
    "img=plot_confusion_matrix(y_test, prediction, classes=class_names, normalize=True,\n",
    "                      title='Normalized confusion matrix')\n",
    "plt.show()\n"
   ]
  },
  {
   "cell_type": "code",
   "execution_count": 148,
   "metadata": {},
   "outputs": [],
   "source": [
    "aa=svm_lin.decision_function(x_test)"
   ]
  },
  {
   "cell_type": "code",
   "execution_count": 149,
   "metadata": {},
   "outputs": [
    {
     "data": {
      "text/plain": [
       "array([ 0.92, -0.18,  0.77, ...,  0.29,  0.34, -0.16])"
      ]
     },
     "execution_count": 149,
     "metadata": {},
     "output_type": "execute_result"
    }
   ],
   "source": [
    "aa"
   ]
  },
  {
   "cell_type": "code",
   "execution_count": 150,
   "metadata": {},
   "outputs": [],
   "source": [
    "aaa=svm_lin.predict(x_test)"
   ]
  },
  {
   "cell_type": "code",
   "execution_count": 151,
   "metadata": {},
   "outputs": [
    {
     "data": {
      "text/plain": [
       "array([1, 0, 1, ..., 1, 1, 0])"
      ]
     },
     "execution_count": 151,
     "metadata": {},
     "output_type": "execute_result"
    }
   ],
   "source": [
    "aaa"
   ]
  },
  {
   "cell_type": "code",
   "execution_count": 158,
   "metadata": {},
   "outputs": [
    {
     "data": {
      "text/plain": [
       "array([0, 1, 1, 1, 1])"
      ]
     },
     "execution_count": 158,
     "metadata": {},
     "output_type": "execute_result"
    }
   ],
   "source": [
    "aaa[1:6]"
   ]
  },
  {
   "cell_type": "code",
   "execution_count": 2,
   "metadata": {},
   "outputs": [
    {
     "name": "stderr",
     "output_type": "stream",
     "text": [
      "C:\\Users\\Basant\\Anaconda3\\lib\\site-packages\\sklearn\\utils\\validation.py:578: DataConversionWarning: A column-vector y was passed when a 1d array was expected. Please change the shape of y to (n_samples, ), for example using ravel().\n",
      "  y = column_or_1d(y, warn=True)\n"
     ]
    },
    {
     "data": {
      "text/plain": [
       "0.9940298507462687"
      ]
     },
     "execution_count": 2,
     "metadata": {},
     "output_type": "execute_result"
    }
   ],
   "source": [
    "\n",
    "import scipy.io as sio\n",
    "f0=sio.loadmat('CWRU.mat')\n",
    "\n",
    "xtrain=f0['training_inputs']\n",
    "xtest=f0['test_inputs']\n",
    "ytrain=f0['training_results']\n",
    "ytest=f0['test_results']\n",
    "\n",
    "xtrain=xtrain.T\n",
    "ytrain=ytrain.T\n",
    "xtest=xtest.T\n",
    "ytest=ytest.T\n",
    "\n",
    "x_train=xtrain\n",
    "y_train=ytrain\n",
    "x_test=xtest\n",
    "y_test=ytest\n",
    "\n",
    "from sklearn.svm import SVC\n",
    "#svm_lin= SVC( kernel='linear', C =5).fit(x_train, y_train)  # for linear\n",
    "svm_rbf = SVC( kernel='rbf', C =90,gamma=0.12).fit(x_train, y_train)  # for rbf\n",
    "\n",
    "accuracy=svm_rbf.score(x_test,y_test)\n",
    "\n",
    "accuracy\n"
   ]
  },
  {
   "cell_type": "code",
   "execution_count": 5,
   "metadata": {},
   "outputs": [
    {
     "data": {
      "text/plain": [
       "(3500, 100)"
      ]
     },
     "execution_count": 5,
     "metadata": {},
     "output_type": "execute_result"
    }
   ],
   "source": [
    "x_train.shape                             "
   ]
  },
  {
   "cell_type": "code",
   "execution_count": 6,
   "metadata": {},
   "outputs": [
    {
     "data": {
      "text/plain": [
       "0.7231404958677686"
      ]
     },
     "execution_count": 6,
     "metadata": {},
     "output_type": "execute_result"
    }
   ],
   "source": [
    "3500/(3500+1340)"
   ]
  },
  {
   "cell_type": "code",
   "execution_count": null,
   "metadata": {},
   "outputs": [],
   "source": []
  },
  {
   "cell_type": "code",
   "execution_count": 41,
   "metadata": {},
   "outputs": [
    {
     "name": "stderr",
     "output_type": "stream",
     "text": [
      "C:\\Users\\Basant\\Anaconda3\\lib\\site-packages\\sklearn\\utils\\validation.py:578: DataConversionWarning: A column-vector y was passed when a 1d array was expected. Please change the shape of y to (n_samples, ), for example using ravel().\n",
      "  y = column_or_1d(y, warn=True)\n"
     ]
    },
    {
     "data": {
      "text/plain": [
       "0.9940298507462687"
      ]
     },
     "execution_count": 41,
     "metadata": {},
     "output_type": "execute_result"
    }
   ],
   "source": [
    "svm_rbf = SVC( kernel='rbf', C =90,gamma=0.12).fit(x_train, y_train)  # for rbf\n",
    "\n",
    "accuracy=svm_rbf.score(x_test,y_test)\n",
    "\n",
    "accuracy"
   ]
  },
  {
   "cell_type": "code",
   "execution_count": null,
   "metadata": {},
   "outputs": [],
   "source": []
  },
  {
   "cell_type": "code",
   "execution_count": 2,
   "metadata": {},
   "outputs": [
    {
     "name": "stderr",
     "output_type": "stream",
     "text": [
      "C:\\Users\\Basant\\Anaconda3\\lib\\site-packages\\sklearn\\utils\\validation.py:578: DataConversionWarning: A column-vector y was passed when a 1d array was expected. Please change the shape of y to (n_samples, ), for example using ravel().\n",
      "  y = column_or_1d(y, warn=True)\n",
      "C:\\Users\\Basant\\Anaconda3\\lib\\site-packages\\ipykernel\\__main__.py:30: DataConversionWarning: A column-vector y was passed when a 1d array was expected. Please change the shape of y to (n_samples,), for example using ravel().\n",
      "C:\\Users\\Basant\\Anaconda3\\lib\\site-packages\\ipykernel\\__main__.py:35: DataConversionWarning: A column-vector y was passed when a 1d array was expected. Please change the shape of y to (n_samples, ), for example using ravel().\n",
      "C:\\Users\\Basant\\Anaconda3\\lib\\site-packages\\sklearn\\utils\\validation.py:578: DataConversionWarning: A column-vector y was passed when a 1d array was expected. Please change the shape of y to (n_samples, ), for example using ravel().\n",
      "  y = column_or_1d(y, warn=True)\n"
     ]
    }
   ],
   "source": [
    "import scipy.io as sio\n",
    "f0=sio.loadmat('CWRU.mat')\n",
    "\n",
    "xtrain=f0['training_inputs']\n",
    "xtest=f0['test_inputs']\n",
    "ytrain=f0['training_results']\n",
    "ytest=f0['test_results']\n",
    "\n",
    "xtrain=xtrain.T\n",
    "ytrain=ytrain.T\n",
    "xtest=xtest.T\n",
    "ytest=ytest.T\n",
    "x_train=xtrain\n",
    "y_train=ytrain\n",
    "x_test=xtest\n",
    "y_test=ytest\n",
    "\n",
    "from sklearn.svm import SVC\n",
    "svm_lin= SVC( kernel='linear', C =5).fit(x_train, y_train)  # for linear\n",
    "svm_rbf = SVC( kernel='rbf', C =5,gamma=0.341).fit(x_train, y_train)  # for rbf\n",
    "svm_poly = SVC( kernel='poly', C =5,gamma=0.341).fit(x_train, y_train)  # for rbf\n",
    "\n",
    "\n",
    "#svm_predictions = svm_model.predict(x_test)  \n",
    "accuracy1 = svm_lin.score(x_test, y_test)\n",
    "accuracy8 = svm_rbf.score(x_test, y_test)\n",
    "accuracy9 = svm_poly.score(x_test, y_test)\n",
    "\n",
    "from sklearn.ensemble import RandomForestClassifier                     # for rf\n",
    "dt_model=RandomForestClassifier(n_estimators =100).fit(x_train,y_train)\n",
    "accuracy2=dt_model.score(x_test,y_test)\n",
    "#print(\"RFC accuracy\",accuracy)\n",
    "\n",
    "from sklearn.neighbors import KNeighborsClassifier \n",
    "knn = KNeighborsClassifier(n_neighbors = 7).fit(x_train, y_train) \n",
    "accuracy3 = knn.score(x_test, y_test) \n",
    "\n",
    "from sklearn.naive_bayes import GaussianNB \n",
    "gnb = GaussianNB().fit(x_train, y_train) \n",
    "gnb_predictions = gnb.predict(x_test) \n",
    "accuracy4 = gnb.score(x_test, y_test) \n",
    "\n",
    "from sklearn.tree import DecisionTreeClassifier \n",
    "dtree_model = DecisionTreeClassifier(max_depth = 2).fit(x_train, y_train) \n",
    "dtree_predictions = dtree_model.predict(x_test) \n",
    "accuracy5=dtree_model.score(x_test,y_test)\n",
    "\n",
    "from sklearn.linear_model import LogisticRegression\n",
    "clf = LogisticRegression(random_state=0, solver='lbfgs',\n",
    "                         multi_class='multinomial').fit(x_train, y_train)\n",
    "dtree_predictions = clf.predict(x_test) \n",
    "\n",
    "accuracy6=clf.score(x_test,y_test)\n",
    "from sklearn.linear_model import LogisticRegression\n",
    "clf = LogisticRegression(random_state=0, solver='lbfgs',\n",
    "                         multi_class='multinomial').fit(x_train, y_train)\n",
    "dtree_predictions = clf.predict(x_test) \n",
    "accuracy7=clf.score(x_test,y_test) "
   ]
  },
  {
   "cell_type": "code",
   "execution_count": null,
   "metadata": {},
   "outputs": [],
   "source": [
    "# nasa dataset\n",
    "XX=scipy.io.loadmat('nasa.mat')\n",
    "\n",
    "x_train=XX['training_inputs']\n",
    "y_train=XX['training_results']\n",
    "x_test=XX['test_inputs']\n",
    "y_test=XX['test_results']\n",
    "\n",
    "x_train=x_train.T\n",
    "y_train=y_train.T\n",
    "x_test=x_test.T\n",
    "y_test=y_test.T\n",
    "\n",
    "from sklearn.svm import SVC\n",
    "svm_lin= SVC( kernel='rbf', C =15,gamma=0.04).fit(x_train, y_train)  # for linear\n",
    "\n",
    "accuracy1 = svm_lin.score(x_test, y_test)\n",
    "\n",
    "print('accuracy by svm_RBF',accuracy1)"
   ]
  },
  {
   "cell_type": "code",
   "execution_count": 163,
   "metadata": {},
   "outputs": [
    {
     "name": "stderr",
     "output_type": "stream",
     "text": [
      "C:\\Users\\Basant\\Anaconda3\\lib\\site-packages\\sklearn\\utils\\validation.py:578: DataConversionWarning: A column-vector y was passed when a 1d array was expected. Please change the shape of y to (n_samples, ), for example using ravel().\n",
      "  y = column_or_1d(y, warn=True)\n",
      "C:\\Users\\Basant\\Anaconda3\\lib\\site-packages\\ipykernel\\__main__.py:30: DataConversionWarning: A column-vector y was passed when a 1d array was expected. Please change the shape of y to (n_samples,), for example using ravel().\n",
      "C:\\Users\\Basant\\Anaconda3\\lib\\site-packages\\ipykernel\\__main__.py:35: DataConversionWarning: A column-vector y was passed when a 1d array was expected. Please change the shape of y to (n_samples, ), for example using ravel().\n",
      "C:\\Users\\Basant\\Anaconda3\\lib\\site-packages\\sklearn\\utils\\validation.py:578: DataConversionWarning: A column-vector y was passed when a 1d array was expected. Please change the shape of y to (n_samples, ), for example using ravel().\n",
      "  y = column_or_1d(y, warn=True)\n"
     ]
    }
   ],
   "source": [
    "import scipy.io as sio\n",
    "f0=sio.loadmat('nasa.mat')\n",
    "\n",
    "xtrain=f0['training_inputs']\n",
    "xtest=f0['test_inputs']\n",
    "ytrain=f0['training_results']\n",
    "ytest=f0['test_results']\n",
    "\n",
    "xtrain=xtrain.T\n",
    "ytrain=ytrain.T\n",
    "xtest=xtest.T\n",
    "ytest=ytest.T\n",
    "x_train=xtrain\n",
    "y_train=ytrain\n",
    "x_test=xtest\n",
    "y_test=ytest\n",
    "\n",
    "from sklearn.svm import SVC\n",
    "svm_lin= SVC( kernel='linear', C =5).fit(x_train, y_train)  # for linear\n",
    "svm_rbf = SVC( kernel='rbf', C =5,gamma=0.341).fit(x_train, y_train)  # for rbf\n",
    "svm_poly = SVC( kernel='poly', C =5,gamma=0.341).fit(x_train, y_train)  # for rbf\n",
    "\n",
    "\n",
    "#svm_predictions = svm_model.predict(x_test)  \n",
    "accuracy1 = svm_lin.score(x_test, y_test)\n",
    "accuracy8 = svm_rbf.score(x_test, y_test)\n",
    "accuracy9 = svm_poly.score(x_test, y_test)\n",
    "\n",
    "from sklearn.ensemble import RandomForestClassifier                     # for rf\n",
    "dt_model=RandomForestClassifier(n_estimators =100).fit(x_train,y_train)\n",
    "accuracy2=dt_model.score(x_test,y_test)\n",
    "#print(\"RFC accuracy\",accuracy)\n",
    "\n",
    "from sklearn.neighbors import KNeighborsClassifier \n",
    "knn = KNeighborsClassifier(n_neighbors = 7).fit(x_train, y_train) \n",
    "accuracy3 = knn.score(x_test, y_test) \n",
    "\n",
    "from sklearn.naive_bayes import GaussianNB \n",
    "gnb = GaussianNB().fit(x_train, y_train) \n",
    "gnb_predictions = gnb.predict(x_test) \n",
    "accuracy4 = gnb.score(x_test, y_test) \n",
    "\n",
    "from sklearn.tree import DecisionTreeClassifier \n",
    "dtree_model = DecisionTreeClassifier(max_depth = 2).fit(x_train, y_train) \n",
    "dtree_predictions = dtree_model.predict(x_test) \n",
    "accuracy5=dtree_model.score(x_test,y_test)\n",
    "\n",
    "from sklearn.linear_model import LogisticRegression\n",
    "clf = LogisticRegression(random_state=0, solver='lbfgs',\n",
    "                         multi_class='multinomial').fit(x_train, y_train)\n",
    "dtree_predictions = clf.predict(x_test) \n",
    "\n",
    "accuracy6=clf.score(x_test,y_test)\n",
    "from sklearn.linear_model import LogisticRegression\n",
    "clf = LogisticRegression(random_state=0, solver='lbfgs',\n",
    "                         multi_class='multinomial').fit(x_train, y_train)\n",
    "dtree_predictions = clf.predict(x_test) \n",
    "accuracy7=clf.score(x_test,y_test) "
   ]
  },
  {
   "cell_type": "code",
   "execution_count": null,
   "metadata": {},
   "outputs": [],
   "source": [
    "import matplotlib.pyplot as plt \n",
    "import numpy as np \n",
    "from sklearn import datasets, linear_model, metrics \n",
    "import numpy as np\n",
    "from numpy.lib.stride_tricks import as_strided\n",
    "import matplotlib.pyplot as plt\n",
    "import scipy\n",
    "from scipy.io import wavfile\n",
    "from sklearn.model_selection import StratifiedShuffleSplit\n",
    "from hmmlearn import hmm\n",
    "import scipy.io\n",
    "#import numpy as np\n",
    "from sklearn.model_selection import train_test_split\n",
    "\n",
    "data = scipy.io.loadmat('97.mat')\n",
    "data0=scipy.io.loadmat('118.mat')\n",
    "sedaptive=50\n",
    "data1=data['X097_DE_time']\n",
    "data2=np.array(data1)\n",
    "data3=data2\n",
    "l1=int(len(data3)/sedaptive)\n",
    "data3=np.reshape(data2[:l1*sedaptive],(sedaptive,-1))\n",
    "data4=data3.T\n",
    "idx,s=data4.shape\n",
    "label1=np.full((idx,1),0)\n",
    "\n",
    "data01=data0['X118_DE_time']\n",
    "data02=np.array(data1)\n",
    "data03=data2\n",
    "l1=int(len(data03)/sedaptive)\n",
    "data03=np.reshape(data02[:l1*sedaptive],(sedaptive,-1))\n",
    "data04=data03.T\n",
    "idx,s=data04.shape\n",
    "label2=np.full((idx,1),1)\n",
    "X=np.concatenate((data4,data04),axis=0)\n",
    "Y=np.concatenate((label1,label2),axis=0)\n",
    "\n",
    "x_train, x_test, y_train, y_test = train_test_split(\n",
    "    X, Y, test_size=0.33, random_state=42)\n",
    "##\n",
    "  \n",
    "# create linear regression object \n",
    "reg = linear_model.LinearRegression() \n",
    "  \n",
    "# train the model using the training sets \n",
    "reg.fit(x_train, y_train) \n",
    "\n",
    "aa=reg.predict(x_test)\n",
    "print('prediction',aa)"
   ]
  },
  {
   "cell_type": "code",
   "execution_count": 166,
   "metadata": {},
   "outputs": [],
   "source": [
    "import pandas as pd\n",
    "\n",
    "data=pd.read_csv('Concrete_Data.csv',skiprows=1)\n",
    "\n",
    "data=np.array(data)\n",
    "X=data[:,0:8]\n",
    "Y=data[:,8]\n",
    "\n",
    "x_train, x_test, y_train, y_test = train_test_split(\n",
    "    X, Y, test_size=0.33, random_state=42)\n"
   ]
  },
  {
   "cell_type": "code",
   "execution_count": null,
   "metadata": {},
   "outputs": [],
   "source": [
    "# logistic regression\n",
    "reg = linear_model.LinearRegression() \n",
    "  \n",
    "# train the model using the training sets \n",
    "reg.fit(x_train, y_train) \n",
    "\n",
    "aa=reg.predict(x_test)\n",
    "print('prediction',aa)"
   ]
  },
  {
   "cell_type": "code",
   "execution_count": null,
   "metadata": {},
   "outputs": [],
   "source": [
    "from sklearn.metrics import mean_squared_error\n",
    "y_pred=aa\n",
    "ans=mean_squared_error(y_test, y_pred)"
   ]
  },
  {
   "cell_type": "code",
   "execution_count": null,
   "metadata": {},
   "outputs": [],
   "source": [
    "#from sklearn.preprocessing import PolynomialFeatures\n",
    "from sklearn.preprocessing import PolynomialFeatures\n",
    "from sklearn.linear_model import LinearRegression\n",
    "from sklearn.pipeline import Pipeline\n",
    "\n",
    "model = Pipeline([('poly', PolynomialFeatures(degree=3)),\n",
    "                  ('linear', LinearRegression(fit_intercept=False))])\n",
    "\n",
    "model = model.fit(x_train, y_train)\n",
    "\n",
    "aa=reg.predict(x_test)\n",
    "print('prediction',aa)"
   ]
  },
  {
   "cell_type": "code",
   "execution_count": null,
   "metadata": {},
   "outputs": [],
   "source": []
  }
 ],
 "metadata": {
  "kernelspec": {
   "display_name": "Python [conda env:Anaconda3]",
   "language": "python",
   "name": "conda-env-Anaconda3-py"
  },
  "language_info": {
   "codemirror_mode": {
    "name": "ipython",
    "version": 3
   },
   "file_extension": ".py",
   "mimetype": "text/x-python",
   "name": "python",
   "nbconvert_exporter": "python",
   "pygments_lexer": "ipython3",
   "version": "3.5.5"
  }
 },
 "nbformat": 4,
 "nbformat_minor": 2
}
