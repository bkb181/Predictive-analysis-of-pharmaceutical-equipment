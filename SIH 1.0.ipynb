{
 "cells": [
  {
   "cell_type": "markdown",
   "metadata": {},
   "source": [
    "# Smart India Hachathon'2019\n",
    "## Prolem Statement: Predictive analysis of pharmaceutical equipment\n",
    "## Team name: Machhali eleven 360, Rank #2 in grand finale at Oriental University, Indore\n",
    "### IIT Bhubaneswar\n",
    "### Team member\n",
    "* Basant Kumar\n",
    "* Kumari Partibha\n",
    "* Anand Prakash\n",
    "* Pawan Saini\n",
    "* Kumar Ankul\n",
    "* Gourav Barnwal\n",
    "### Mentor\n",
    "* Dr. Adway Mitra\n",
    "* Dr. Nilgiri Puhan"
   ]
  },
  {
   "cell_type": "code",
   "execution_count": null,
   "metadata": {},
   "outputs": [],
   "source": [
    "import os\n",
    "import urllib\n",
    "import pandas as pd\n",
    "\n",
    "import numpy as np\n",
    "from numpy.lib.stride_tricks import as_strided\n",
    "import matplotlib.pyplot as plt\n",
    "import scipy\n",
    "from scipy.io import wavfile\n",
    "from sklearn.model_selection import StratifiedShuffleSplit\n",
    "from hmmlearn import hmm\n",
    "import scipy.io\n",
    "#import numpy as np\n",
    "from sklearn.model_selection import train_test_split\n"
   ]
  },
  {
   "cell_type": "code",
   "execution_count": 19,
   "metadata": {},
   "outputs": [],
   "source": [
    "data=pd.read_csv('Concrete_Data.csv',skiprows=1)\n"
   ]
  },
  {
   "cell_type": "code",
   "execution_count": 20,
   "metadata": {},
   "outputs": [],
   "source": [
    "data=pd.read_csv('Concrete_Data.csv',skiprows=1)\n",
    "\n",
    "data=np.array(data)\n",
    "X=data[:,0:8]\n",
    "Y=data[:,8]\n",
    "\n",
    "x_train, x_test, y_train, y_test = train_test_split(\n",
    "    X, Y, test_size=0.33, random_state=42)"
   ]
  },
  {
   "cell_type": "code",
   "execution_count": 6,
   "metadata": {},
   "outputs": [],
   "source": []
  },
  {
   "cell_type": "code",
   "execution_count": null,
   "metadata": {},
   "outputs": [],
   "source": []
  },
  {
   "cell_type": "code",
   "execution_count": 21,
   "metadata": {},
   "outputs": [],
   "source": [
    "from sklearn.preprocessing import MinMaxScaler\n",
    "min_max=MinMaxScaler()\n",
    "# Scaling down both train and test data set\n",
    "x_train1=min_max.fit_transform(x_train)\n",
    "x_test1=min_max.fit_transform(x_test)\n"
   ]
  },
  {
   "cell_type": "code",
   "execution_count": 25,
   "metadata": {},
   "outputs": [
    {
     "data": {
      "text/plain": [
       "(340, 8)"
      ]
     },
     "execution_count": 25,
     "metadata": {},
     "output_type": "execute_result"
    }
   ],
   "source": [
    "x_test1.shape"
   ]
  },
  {
   "cell_type": "code",
   "execution_count": 26,
   "metadata": {},
   "outputs": [
    {
     "data": {
      "text/plain": [
       "(340,)"
      ]
     },
     "execution_count": 26,
     "metadata": {},
     "output_type": "execute_result"
    }
   ],
   "source": []
  },
  {
   "cell_type": "code",
   "execution_count": 32,
   "metadata": {},
   "outputs": [
    {
     "name": "stdout",
     "output_type": "stream",
     "text": [
      "Coefficients: \n",
      " [-8.80740828e-02  6.72507352e-02  5.10280463e-02  2.18879172e+00\n",
      " -1.72283734e+01  3.62985243e+00  2.13933641e-03 -1.36531300e+00\n",
      "  2.88788067e-01 -1.22618657e-02 -8.36014969e-01  9.53058061e-03\n",
      " -5.05036163e-01]\n",
      "Variance score: 0.7208987846108871\n"
     ]
    },
    {
     "data": {
      "image/png": "[encoded data removed]",
      "text/plain": [
       "<Figure size 432x288 with 1 Axes>"
      ]
     },
     "metadata": {},
     "output_type": "display_data"
    }
   ],
   "source": [
    "import matplotlib.pyplot as plt \n",
    "import numpy as np \n",
    "from sklearn import datasets, linear_model, metrics \n",
    "  \n",
    "# load the boston dataset \n",
    "boston = datasets.load_boston(return_X_y=False) \n",
    "  \n",
    "# defining feature matrix(X) and response vector(y) \n",
    "X = boston.data \n",
    "y = boston.target \n",
    "  \n",
    "# splitting X and y into training and testing sets \n",
    "from sklearn.model_selection import train_test_split \n",
    "X_train, X_test, y_train, y_test = train_test_split(X, y, test_size=0.4, \n",
    "                                                    random_state=1) \n",
    "  \n",
    "# create linear regression object \n",
    "reg = linear_model.LinearRegression() \n",
    "  \n",
    "# train the model using the training sets \n",
    "reg.fit(X_train, y_train) \n",
    "  \n",
    "# regression coefficients \n",
    "print('Coefficients: \\n', reg.coef_) \n",
    "  \n",
    "# variance score: 1 means perfect prediction \n",
    "print('Variance score: {}'.format(reg.score(X_test, y_test))) \n",
    "  \n",
    "# plot for residual error \n",
    "  \n",
    "## setting plot style \n",
    "plt.style.use('fivethirtyeight') \n",
    "  \n",
    "## plotting residual errors in training data \n",
    "plt.scatter(reg.predict(X_train), reg.predict(X_train) - y_train, \n",
    "            color = \"green\", s = 10, label = 'Train data') \n",
    "  \n",
    "## plotting residual errors in test data \n",
    "plt.scatter(reg.predict(X_test), reg.predict(X_test) - y_test, \n",
    "            color = \"blue\", s = 10, label = 'Test data') \n",
    "  \n",
    "## plotting line for zero residual error \n",
    "plt.hlines(y = 0, xmin = 0, xmax = 50, linewidth = 2) \n",
    "  \n",
    "## plotting legend \n",
    "plt.legend(loc = 'upper right') \n",
    "  \n",
    "## plot title \n",
    "plt.title(\"Residual errors\") \n",
    "  \n",
    "## function to show plot \n",
    "plt.show() \n"
   ]
  },
  {
   "cell_type": "code",
   "execution_count": 107,
   "metadata": {},
   "outputs": [],
   "source": [
    "XX=scipy.io.loadmat('nasa.mat')\n",
    "#YY=scipy.io.loadmat('CWRUTest2.mat')"
   ]
  },
  {
   "cell_type": "code",
   "execution_count": null,
   "metadata": {},
   "outputs": [],
   "source": [
    "XX=scipy.io.loadmat('nasa.mat')\n",
    "\n",
    "x_train=XX['training_inputs']\n",
    "y_train=XX['training_results']\n",
    "x_test=XX['test_inputs']\n",
    "y_test=XX['test_results']\n",
    "\n",
    "x_train=x_train.T\n",
    "y_train=y_train.T\n",
    "x_test=x_test.T\n",
    "y_test=y_test.T\n",
    "\n",
    "from sklearn.svm import SVC\n",
    "svm_lin= SVC( kernel='rbf', C =15,gamma=0.04).fit(x_train, y_train)  # for linear\n",
    "\n",
    "accuracy1 = svm_lin.score(x_test, y_test)\n",
    "\n",
    "print('accuracy by svm_RBF',accuracy1)"
   ]
  },
  {
   "cell_type": "code",
   "execution_count": 109,
   "metadata": {},
   "outputs": [],
   "source": [
    "x_train=XX['training_inputs']\n",
    "y_train=XX['training_results']"
   ]
  },
  {
   "cell_type": "code",
   "execution_count": 110,
   "metadata": {},
   "outputs": [],
   "source": [
    "x_test=XX['test_inputs']\n",
    "y_test=XX['test_results']"
   ]
  },
  {
   "cell_type": "code",
   "execution_count": 114,
   "metadata": {},
   "outputs": [
    {
     "data": {
      "text/plain": [
       "(150, 2000)"
      ]
     },
     "execution_count": 114,
     "metadata": {},
     "output_type": "execute_result"
    }
   ],
   "source": [
    "x_train.shape"
   ]
  },
  {
   "cell_type": "code",
   "execution_count": null,
   "metadata": {},
   "outputs": [],
   "source": []
  },
  {
   "cell_type": "code",
   "execution_count": null,
   "metadata": {},
   "outputs": [],
   "source": []
  },
  {
   "cell_type": "code",
   "execution_count": 115,
   "metadata": {},
   "outputs": [],
   "source": [
    "x_train=x_train.T\n",
    "y_train=y_train.T\n",
    "x_test=x_test.T\n",
    "y_test=y_test.T\n"
   ]
  },
  {
   "cell_type": "code",
   "execution_count": 79,
   "metadata": {},
   "outputs": [
    {
     "data": {
      "text/plain": [
       "(4840, 100)"
      ]
     },
     "execution_count": 79,
     "metadata": {},
     "output_type": "execute_result"
    }
   ],
   "source": [
    "x_test.shape"
   ]
  },
  {
   "cell_type": "code",
   "execution_count": 131,
   "metadata": {},
   "outputs": [
    {
     "name": "stderr",
     "output_type": "stream",
     "text": [
      "C:\\Users\\Basant\\Anaconda3\\lib\\site-packages\\sklearn\\utils\\validation.py:578: DataConversionWarning: A column-vector y was passed when a 1d array was expected. Please change the shape of y to (n_samples, ), for example using ravel().\n",
      "  y = column_or_1d(y, warn=True)\n"
     ]
    }
   ],
   "source": [
    "from sklearn.svm import SVC\n",
    "svm_lin= SVC( kernel='rbf', C =15,gamma=0.04).fit(x_train, y_train)  # for linear\n"
   ]
  },
  {
   "cell_type": "code",
   "execution_count": 132,
   "metadata": {},
   "outputs": [],
   "source": [
    "accuracy1 = svm_lin.score(x_test, y_test)\n"
   ]
  },
  {
   "cell_type": "code",
   "execution_count": 88,
   "metadata": {},
   "outputs": [],
   "source": [
    "XX=scipy.io.loadmat('CWRU.mat')\n"
   ]
  },
  {
   "cell_type": "code",
   "execution_count": 89,
   "metadata": {},
   "outputs": [
    {
     "data": {
      "text/plain": [
       "{'__globals__': [],\n",
       " '__header__': b'MATLAB 5.0 MAT-file, Platform: PCWIN64, Created on: Tue Dec 25 19:33:45 2018',\n",
       " '__version__': '1.0',\n",
       " 'test_inputs': array([[ 0.02774585, -0.11305485, -0.10769449, ..., -0.05486585,\n",
       "          0.14456727,  0.22627214],\n",
       "        [ 0.00771877,  0.15090224,  0.05051733, ..., -0.04693846,\n",
       "         -0.40446347,  0.11532894],\n",
       "        [ 0.01794092,  0.09762351,  0.03443625, ..., -0.02357354,\n",
       "         -0.3102511 , -0.12686184],\n",
       "        ...,\n",
       "        [-0.04443508, -0.038822  ,  0.04239557, ...,  0.04068   ,\n",
       "          0.31106327, -0.0966489 ],\n",
       "        [-0.12537785,  0.00714715, -0.09031393, ...,  0.03316985,\n",
       "          0.06375579,  0.07195876],\n",
       "        [-0.15833908,  0.06091317,  0.00682228, ...,  0.03004062,\n",
       "         -0.42720439,  0.205318  ]]),\n",
       " 'test_results': array([[0, 2, 2, ..., 0, 3, 2]], dtype=uint8),\n",
       " 'training_inputs': array([[-0.03719764, -0.22448535,  0.05236246, ...,  1.34780549,\n",
       "         -0.1327095 ,  0.07447569],\n",
       "        [ 0.27630216,  0.25469828,  0.07176369, ..., -0.84506876,\n",
       "         -0.11646599,  0.12454338],\n",
       "        [ 0.05067976, -0.01007098,  0.06341908, ..., -1.54029112,\n",
       "         -0.07309581,  0.14269292],\n",
       "        ...,\n",
       "        [-0.14684136,  0.10087222, -0.04985908, ..., -1.33359242,\n",
       "         -0.04320774, -0.03296123],\n",
       "        [ 0.01656838, -0.00795932, -0.00500677, ...,  1.45785529,\n",
       "          0.0180303 , -0.06926031],\n",
       "        [ 0.25421098, -0.16990715,  0.04985908, ...,  1.70962974,\n",
       "         -0.22545996, -0.06216738]]),\n",
       " 'training_results': array([[2, 1, 0, ..., 3, 1, 0]], dtype=uint8)}"
      ]
     },
     "execution_count": 89,
     "metadata": {},
     "output_type": "execute_result"
    }
   ],
   "source": [
    "XX"
   ]
  },
  {
   "cell_type": "markdown",
   "metadata": {},
   "source": [
    "# Following code involves the loading of dataset downloaded from nasa repository\n",
    "# Classification method used are\n",
    "* SVM (Linear, RBF, Poly)\n",
    "* Random forest Classifier\n",
    "* KNN\n",
    "* Decision tree\n",
    "* Gaussian Naive Bayes\n",
    "* Logistic Regression"
   ]
  },
  {
   "cell_type": "markdown",
   "metadata": {},
   "source": [
    "CWRU data set "
   ]
  },
  {
   "cell_type": "code",
   "execution_count": 134,
   "metadata": {},
   "outputs": [
    {
     "name": "stderr",
     "output_type": "stream",
     "text": [
      "C:\\Users\\Basant\\Anaconda3\\lib\\site-packages\\sklearn\\utils\\validation.py:578: DataConversionWarning: A column-vector y was passed when a 1d array was expected. Please change the shape of y to (n_samples, ), for example using ravel().\n",
      "  y = column_or_1d(y, warn=True)\n",
      "C:\\Users\\Basant\\Anaconda3\\lib\\site-packages\\ipykernel\\__main__.py:30: DataConversionWarning: A column-vector y was passed when a 1d array was expected. Please change the shape of y to (n_samples,), for example using ravel().\n",
      "C:\\Users\\Basant\\Anaconda3\\lib\\site-packages\\ipykernel\\__main__.py:35: DataConversionWarning: A column-vector y was passed when a 1d array was expected. Please change the shape of y to (n_samples, ), for example using ravel().\n",
      "C:\\Users\\Basant\\Anaconda3\\lib\\site-packages\\sklearn\\utils\\validation.py:578: DataConversionWarning: A column-vector y was passed when a 1d array was expected. Please change the shape of y to (n_samples, ), for example using ravel().\n",
      "  y = column_or_1d(y, warn=True)\n"
     ]
    }
   ],
   "source": [
    "import scipy.io as sio\n",
    "f0=sio.loadmat('nasa.mat')\n",
    "\n",
    "xtrain=f0['training_inputs']\n",
    "xtest=f0['test_inputs']\n",
    "ytrain=f0['training_results']\n",
    "ytest=f0['test_results']\n",
    "\n",
    "xtrain=xtrain.T\n",
    "ytrain=ytrain.T\n",
    "xtest=xtest.T\n",
    "ytest=ytest.T\n",
    "x_train=xtrain\n",
    "y_train=ytrain\n",
    "x_test=xtest\n",
    "y_test=ytest\n",
    "\n",
    "from sklearn.svm import SVC\n",
    "svm_lin= SVC( kernel='linear', C =5).fit(x_train, y_train)  # for linear\n",
    "svm_rbf = SVC( kernel='rbf', C =5,gamma=0.341).fit(x_train, y_train)  # for rbf\n",
    "svm_poly = SVC( kernel='poly', C =5,gamma=0.341).fit(x_train, y_train)  # for rbf\n",
    "\n",
    "\n",
    "#svm_predictions = svm_model.predict(x_test)  \n",
    "accuracy1 = svm_lin.score(x_test, y_test)\n",
    "accuracy8 = svm_rbf.score(x_test, y_test)\n",
    "accuracy9 = svm_poly.score(x_test, y_test)\n",
    "\n",
    "from sklearn.ensemble import RandomForestClassifier                     # for rf\n",
    "dt_model=RandomForestClassifier(n_estimators =100).fit(x_train,y_train)\n",
    "accuracy2=dt_model.score(x_test,y_test)\n",
    "#print(\"RFC accuracy\",accuracy)\n",
    "\n",
    "from sklearn.neighbors import KNeighborsClassifier \n",
    "knn = KNeighborsClassifier(n_neighbors = 7).fit(x_train, y_train) \n",
    "accuracy3 = knn.score(x_test, y_test) \n",
    "\n",
    "from sklearn.naive_bayes import GaussianNB \n",
    "gnb = GaussianNB().fit(x_train, y_train) \n",
    "gnb_predictions = gnb.predict(x_test) \n",
    "accuracy4 = gnb.score(x_test, y_test) \n",
    "\n",
    "from sklearn.tree import DecisionTreeClassifier \n",
    "dtree_model = DecisionTreeClassifier(max_depth = 2).fit(x_train, y_train) \n",
    "dtree_predictions = dtree_model.predict(x_test) \n",
    "accuracy5=dtree_model.score(x_test,y_test)\n",
    "\n",
    "from sklearn.linear_model import LogisticRegression\n",
    "clf = LogisticRegression(random_state=0, solver='lbfgs',\n",
    "                         multi_class='multinomial').fit(x_train, y_train)\n",
    "dtree_predictions = clf.predict(x_test) \n",
    "\n",
    "accuracy6=clf.score(x_test,y_test)\n",
    "from sklearn.linear_model import LogisticRegression\n",
    "clf = LogisticRegression(random_state=0, solver='lbfgs',\n",
    "                         multi_class='multinomial').fit(x_train, y_train)\n",
    "dtree_predictions = clf.predict(x_test) \n",
    "accuracy7=clf.score(x_test,y_test) "
   ]
  },
  {
   "cell_type": "code",
   "execution_count": 143,
   "metadata": {},
   "outputs": [
    {
     "data": {
      "text/plain": [
       "0.8794520547945206"
      ]
     },
     "execution_count": 143,
     "metadata": {},
     "output_type": "execute_result"
    }
   ],
   "source": [
    "accuracy9"
   ]
  },
  {
   "cell_type": "markdown",
   "metadata": {},
   "source": [
    "# Following code involves preprocessing of data like segmentation, noise removal, labeling etc"
   ]
  },
  {
   "cell_type": "code",
   "execution_count": 149,
   "metadata": {},
   "outputs": [
    {
     "data": {
      "text/plain": [
       "LinearRegression(copy_X=True, fit_intercept=True, n_jobs=1, normalize=False)"
      ]
     },
     "execution_count": 149,
     "metadata": {},
     "output_type": "execute_result"
    }
   ],
   "source": [
    "import matplotlib.pyplot as plt \n",
    "import numpy as np \n",
    "from sklearn import datasets, linear_model, metrics \n",
    "import numpy as np\n",
    "from numpy.lib.stride_tricks import as_strided\n",
    "import matplotlib.pyplot as plt\n",
    "import scipy\n",
    "from scipy.io import wavfile\n",
    "from sklearn.model_selection import StratifiedShuffleSplit\n",
    "from hmmlearn import hmm\n",
    "import scipy.io\n",
    "#import numpy as np\n",
    "from sklearn.model_selection import train_test_split\n",
    "\n",
    "data = scipy.io.loadmat('97.mat')\n",
    "data0=scipy.io.loadmat('118.mat')\n",
    "sedaptive=50\n",
    "data1=data['X097_DE_time']\n",
    "data2=np.array(data1)\n",
    "data3=data2\n",
    "l1=int(len(data3)/sedaptive)\n",
    "data3=np.reshape(data2[:l1*sedaptive],(sedaptive,-1))\n",
    "data4=data3.T\n",
    "idx,s=data4.shape\n",
    "label1=np.full((idx,1),0)\n",
    "\n",
    "data01=data0['X118_DE_time']\n",
    "data02=np.array(data1)\n",
    "data03=data2\n",
    "l1=int(len(data03)/sedaptive)\n",
    "data03=np.reshape(data02[:l1*sedaptive],(sedaptive,-1))\n",
    "data04=data03.T\n",
    "idx,s=data04.shape\n",
    "label2=np.full((idx,1),1)\n",
    "X=np.concatenate((data4,data04),axis=0)\n",
    "Y=np.concatenate((label1,label2),axis=0)\n",
    "\n",
    "x_train, x_test, y_train, y_test = train_test_split(\n",
    "    X, Y, test_size=0.33, random_state=42)\n",
    "##\n",
    "  \n",
    "# create linear regression object \n",
    "reg = linear_model.LinearRegression() \n",
    "  \n",
    "# train the model using the training sets \n",
    "reg.fit(x_train, y_train) \n",
    "\n",
    "aa=reg.predict(x_test)\n",
    "print('prediction',aa)"
   ]
  },
  {
   "cell_type": "code",
   "execution_count": 151,
   "metadata": {},
   "outputs": [],
   "source": [
    "aa=reg.predict(x_test)"
   ]
  },
  {
   "cell_type": "code",
   "execution_count": 152,
   "metadata": {},
   "outputs": [
    {
     "data": {
      "text/plain": [
       "array([[0.54727164],\n",
       "       [0.48801323],\n",
       "       [0.53644151],\n",
       "       ...,\n",
       "       [0.53075296],\n",
       "       [0.50959505],\n",
       "       [0.49023735]])"
      ]
     },
     "execution_count": 152,
     "metadata": {},
     "output_type": "execute_result"
    }
   ],
   "source": [
    "aa"
   ]
  },
  {
   "cell_type": "code",
   "execution_count": 146,
   "metadata": {},
   "outputs": [],
   "source": [
    "aa=reg.predict(X_test)"
   ]
  },
  {
   "cell_type": "code",
   "execution_count": 147,
   "metadata": {},
   "outputs": [
    {
     "data": {
      "text/plain": [
       "array([32.5707348 , 28.31466868, 18.02426383, 21.23257623, 18.3046552 ,\n",
       "       20.42348683, 33.00122311, 18.23464324, 24.16480953, 26.44557241,\n",
       "       26.89652176, 29.11144437, 20.47534488, 26.7251866 , 23.01342002,\n",
       "       20.06291424, 17.92894208, 38.59875642, 30.22322753,  8.72204497,\n",
       "       20.4280623 , 15.60690947, 25.14946356, 24.82323736, 31.33630082,\n",
       "       10.27354367, 13.94859263, 16.60340729, 36.10749927, 14.50657944,\n",
       "       21.75966984, 14.17772893, 43.79863568, 18.28744457, 21.07748947,\n",
       "       20.36122372, 17.75223886, 27.4118768 ,  8.80322369, 19.76858958,\n",
       "       23.57635913, 21.4839314 , 29.01290495, 16.2679372 , 19.34220215,\n",
       "       14.66593221, 39.11778361, 18.16247022, 24.90702528, 19.56629928,\n",
       "       25.33211907, 24.34874561, 24.85646145, 25.90136576,  4.60566553,\n",
       "       24.39942676, 11.24872151, 26.41485688, 17.10719653, 36.08239288,\n",
       "       19.66730877, 27.2419917 , 16.52804883, 18.11573133, 11.28231146,\n",
       "       31.98190219, 36.95296494, 21.46425438, 24.14321481, 24.43123425,\n",
       "       23.46494478,  7.00338854, 15.67854733, 20.90498602, 20.64676305,\n",
       "       21.08914755, 33.63195433, 27.86440487, 25.06784282, 35.4626654 ,\n",
       "       19.31554561, 23.28114616, 34.3252269 , 13.54122373, 21.29428225,\n",
       "       29.80651995, 17.33485069, 24.38604881, 18.98772679, 17.72403585,\n",
       "       27.42204787, 41.94909862, 14.33140469, 22.80989214, 14.58303338,\n",
       "       21.50989162, 23.47795846, 29.23245841, 37.21777174, 20.54068894,\n",
       "       16.37332503, 18.20605781, 24.7958608 , 22.25455929,  8.71413214,\n",
       "       21.20594327, 14.68110746, 31.56130189, 24.19753394, 25.30823211,\n",
       "       38.17652015, 28.22254114, 14.32528309, 35.29388106, 35.45868816,\n",
       "       32.87222317, 21.12644105, 16.27399463, 35.03515592, 39.60436789,\n",
       "       20.64763127, 15.32233095, 27.48005235, 18.93731317, 27.52553805,\n",
       "       21.05189019, 25.43951494, 22.38450398, 22.39261478, 28.45273453,\n",
       "       20.22274432, 23.97733472, 29.3396914 , 10.41925975, 27.15252097,\n",
       "       33.03893163, 14.17575433, 12.77545576, 33.71857962, 15.86435703,\n",
       "       18.74074204, 16.92383636, 17.24835597, 28.39588438, 34.54134511,\n",
       "       20.48444007, 24.60581861, 17.07765037, 27.88178936, 20.94460623,\n",
       "       33.84335491, 14.15101637, 19.64957442, 19.15264286, 20.26340154,\n",
       "       32.30962085, 14.53946935, 28.46142073, 22.89568097, 28.99179393,\n",
       "       34.07261234, 36.28182213, 24.33423701, 18.19203068, 18.65771594,\n",
       "       21.76472584, 26.82211744, 16.26177781, 15.71488592, 26.18546425,\n",
       "       22.3831096 , 17.90797186, 14.9631407 , 30.00930969, 18.80235948,\n",
       "       23.84644182, 33.24951461, 23.93183009, 35.85622201, 20.93471369,\n",
       "       22.88478182, 26.74076534, 17.00131052, 33.24190015, 13.38739207,\n",
       "       22.78912842, 20.3863576 , 34.73905522, 21.57895945, 22.23691233,\n",
       "       20.7484048 , 15.78543779, 22.51405729, 25.27972654, 22.37548788,\n",
       "       18.63390017, 32.48811409, 21.31944913, 34.81263145, 25.37232191,\n",
       "       18.80998206,  2.48014964, 24.8885418 ])"
      ]
     },
     "execution_count": 147,
     "metadata": {},
     "output_type": "execute_result"
    }
   ],
   "source": [
    "aa"
   ]
  },
  {
   "cell_type": "code",
   "execution_count": null,
   "metadata": {},
   "outputs": [],
   "source": [
    "import numpy as np \n",
    "from sklearn import datasets, linear_model, metrics \n",
    "import pandas as pd\n",
    "from numpy.lib.stride_tricks import as_strided\n",
    "import matplotlib.pyplot as plt\n",
    "import scipy\n",
    "\n",
    "data=pd.read_csv('Concrete_Data.csv',skiprows=1)\n",
    "\n",
    "data=np.array(data)\n",
    "X=data[:,0:8]\n",
    "Y=data[:,8]\n",
    "\n",
    "x_train, x_test, y_train, y_test = train_test_split(\n",
    "    X, Y, test_size=0.33, random_state=42)\n",
    "\n",
    "reg = linear_model.LinearRegression() \n",
    "  \n",
    "# train the model using the training sets \n",
    "reg.fit(x_train, y_train) \n",
    "\n",
    "aa=reg.predict(x_test)\n",
    "print('prediction',aa)\n",
    "from sklearn.metrics import mean_squared_error\n",
    "y_pred=aa\n",
    "ans=mean_squared_error(y_test, y_pred)\n",
    "print('mean square error',ans)\n"
   ]
  },
  {
   "cell_type": "code",
   "execution_count": 155,
   "metadata": {},
   "outputs": [
    {
     "data": {
      "text/plain": [
       "(340,)"
      ]
     },
     "execution_count": 155,
     "metadata": {},
     "output_type": "execute_result"
    }
   ],
   "source": [
    "aa.shape"
   ]
  },
  {
   "cell_type": "code",
   "execution_count": 157,
   "metadata": {},
   "outputs": [
    {
     "data": {
      "text/plain": [
       "(340, 8)"
      ]
     },
     "execution_count": 157,
     "metadata": {},
     "output_type": "execute_result"
    }
   ],
   "source": [
    "x_test.shape"
   ]
  },
  {
   "cell_type": "code",
   "execution_count": 159,
   "metadata": {},
   "outputs": [],
   "source": [
    "from sklearn.metrics import mean_squared_error\n",
    "y_pred=aa\n",
    "ans=mean_squared_error(y_test, y_pred)"
   ]
  },
  {
   "cell_type": "code",
   "execution_count": 160,
   "metadata": {},
   "outputs": [
    {
     "data": {
      "text/plain": [
       "119.85993457701306"
      ]
     },
     "execution_count": 160,
     "metadata": {},
     "output_type": "execute_result"
    }
   ],
   "source": [
    "ans"
   ]
  },
  {
   "cell_type": "code",
   "execution_count": 161,
   "metadata": {},
   "outputs": [],
   "source": [
    "#from sklearn.preprocessing import PolynomialFeatures\n",
    "from sklearn.preprocessing import PolynomialFeatures\n",
    "from sklearn.linear_model import LinearRegression\n",
    "from sklearn.pipeline import Pipeline\n",
    "\n",
    "model = Pipeline([('poly', PolynomialFeatures(degree=3)),\n",
    "                  ('linear', LinearRegression(fit_intercept=False))])\n",
    "\n",
    "model = model.fit(x_train, y_train)\n",
    "\n",
    "aa=reg.predict(x_test)\n",
    "print('prediction',aa)\n"
   ]
  },
  {
   "cell_type": "code",
   "execution_count": 162,
   "metadata": {},
   "outputs": [
    {
     "name": "stdout",
     "output_type": "stream",
     "text": [
      "prediction [27.65836712 38.47191076 31.69445808 51.66145504 32.25615223 35.45178075\n",
      " 65.99214716 31.20417078 20.03776906 31.97750294 42.71267673 40.90760778\n",
      " 17.84221677 28.18953548 25.49932065 46.70441293 30.95211724 35.48454429\n",
      " 28.7198634  32.91440272 46.71356257 48.94585118 22.56886276 15.92603215\n",
      " 31.15245539 19.68862305 39.41271984 54.91820959 33.2068743  22.34451336\n",
      " 39.10008932 27.14975453 21.75889617 31.4085543  60.95802773 13.43477368\n",
      " 25.17745084 48.17699339 49.47651635 49.26159773 55.84956134 19.15936219\n",
      " 54.26484572 36.2100075  39.94575485 64.43265715 17.52534638 47.71901991\n",
      " 47.7556674  46.12386417 29.5570948  41.66670465 15.4688188  32.13383514\n",
      " 37.45416118 33.29481698 31.94744723 20.67687948 20.73097568 23.50461553\n",
      " 28.59908256 30.89541003 47.1383859  55.54466496 32.17182863 23.20146322\n",
      " 32.58686488 22.82761469 39.80618949 54.35724059 36.7950518  13.32076145\n",
      " 59.64498128 12.86669149 20.55341186 21.10025476 61.12544109 26.1105837\n",
      " 37.44076131 23.0679729  61.51641439 10.82583999 40.20919595 30.45052848\n",
      " 29.89302832 25.91313502 25.63022784 15.47139902 38.7554235  30.01516569\n",
      " 24.47254753 21.55823105 24.33903739 50.57957689 20.33912897 22.44024961\n",
      " 33.39929651 35.13584472 29.14627772 33.51464214 31.46344251 22.90469643\n",
      " 39.6269791  31.84756038 28.21599958 35.29089081 20.07374237 34.62823933\n",
      " 40.31649543 50.58979853 20.90068064 25.58584445 33.21021913 26.06568653\n",
      " 34.39069103 30.97296348 42.03712999 26.48150492 48.77148215 23.54457286\n",
      " 61.09303911 48.48186069 27.80313997 54.73394549 38.46370782 25.66916811\n",
      " 15.22417701 36.43073417 36.98232951 33.56207114 39.3629656  34.57799855\n",
      " 69.20462607 50.62458317 35.23154841 20.25231356 33.99469433 50.02506668\n",
      " 42.60983987 50.58979853 33.92865617 26.88742299 30.73830204 23.68902148\n",
      " 21.150652   43.30883332 19.31543377 38.13458698 34.616523   40.51370091\n",
      " 25.75494841 29.78054927 61.47792803 33.8981955  53.20490337 52.46500321\n",
      " 47.62070591 71.05520082 56.83834332 33.79360735 58.94461416 54.51633074\n",
      " 48.17018876 29.44971609 37.33186528 21.59855604 42.87176198 43.55115222\n",
      " 28.51098756 33.78976106 32.2676106  31.36415    36.66757503 17.69412582\n",
      " 23.07961032 30.55563094 41.82355755 31.12182109 34.2767823  36.6763159\n",
      " 31.29022647 34.10143999 48.76811113 32.44529533 14.86855177 51.97737903\n",
      " 18.83476282 38.72292553 24.04315679 36.97369777 30.46283977 52.38461814\n",
      " 28.96896104 36.98235932 38.91016153 28.48864372 67.95175061 31.51915424\n",
      " 27.90635487 36.88943917 51.86048494 55.18512172 36.99942171 49.65489268\n",
      " 59.67804634 19.97665826 50.422095   22.46638891 49.65489268 56.19997367\n",
      " 36.60511087 11.65647629 19.06684633 46.79255843 17.32001832 23.37031635\n",
      " 49.42178001 39.41318766 41.64281915 26.05545994 31.41131076 44.40067388\n",
      " 20.03479403 24.98101064 14.99324227 26.40690711 23.76670692 35.13317756\n",
      " 35.96117693 28.30315548 34.16685296 33.08464626 37.06487378 60.50005425\n",
      " 60.13846789 33.02533215 20.83559626 48.02335261 26.56855718 22.4391548\n",
      " 30.20401544 64.53565267 30.69376908 61.47792803 48.63729906 63.303055\n",
      " 60.58447936 35.42707011 44.73402513 36.7093502  28.17903789 31.86759436\n",
      " 28.97291795 26.98802577 31.38345645 38.49670518 25.75677166 27.2082581\n",
      " 42.37621578 35.90188977 33.09812985 24.10008187 24.60034582 30.5395902\n",
      " 52.86070704 54.35724059 54.81521407 58.65800808 26.88573654 22.76381428\n",
      " 46.89724662 28.54565601 33.01567654 48.02388721 51.20348156 27.87596779\n",
      " 51.40251146 45.28366871 23.26922505 25.60418944 14.91565755 25.72847181\n",
      " 47.25053191 43.53441346 69.82148432 39.87591112 50.66957078 54.43398255\n",
      " 27.1687814  44.07411878 53.23110203 42.67901741 30.35556889 31.92567776\n",
      " 18.09717249 33.21778999 32.84201292 30.56892145 28.3834016  25.16902166\n",
      " 57.37866499 30.21323675 26.203253   34.04008875 52.86070704 30.60320447\n",
      " 38.65372398 28.03808723 23.35058764 50.2115973  32.87832387 18.14905109\n",
      " 33.58217488 21.9530926  36.27216405 26.40727758 48.09202297 17.38721573\n",
      " 53.05258445 42.83469796 16.7908554  41.14161597 54.78897891 57.79443647\n",
      " 23.5109158  20.70455103 12.91590336 31.37332181 25.32720123 20.17075887\n",
      " 21.06071557 53.78716852 25.49800286 32.52784121 34.55424405 48.0261255\n",
      " 33.70920809 17.39760305 31.38360204 33.06913575]\n"
     ]
    }
   ],
   "source": [
    "aa=reg.predict(x_test)\n",
    "print('prediction',aa)\n",
    "from sklearn.metrics import mean_squared_error\n"
   ]
  },
  {
   "cell_type": "code",
   "execution_count": 163,
   "metadata": {},
   "outputs": [],
   "source": [
    "import smtplib"
   ]
  },
  {
   "cell_type": "markdown",
   "metadata": {},
   "source": [
    "# python code to send email"
   ]
  },
  {
   "cell_type": "code",
   "execution_count": null,
   "metadata": {},
   "outputs": [],
   "source": [
    "import smtplib \n",
    "  \n",
    "# creates SMTP session \n",
    "s = smtplib.SMTP('smtp.gmail.com', 587) \n",
    "  \n",
    "# start TLS for security \n",
    "#\n",
    "s.ehlo()\n",
    "s.starttls() \n",
    "# Authentication \n",
    "s.login(\"bk18@iitbbs.ac.in\", \"super30asdf\") \n",
    "  \n",
    "# message to be sent \n",
    "message = \"hi How is the josh\"\n",
    "  \n",
    "# sending the mail \n",
    "s.sendmail(\"bk18@iitbbs.ac.in\", \"gb12@iitbbs.ac.in\", message) \n",
    "  \n",
    "# terminating the session \n",
    "s.close() "
   ]
  },
  {
   "cell_type": "code",
   "execution_count": null,
   "metadata": {},
   "outputs": [],
   "source": [
    "import smtplib, ssl\n",
    "\n",
    "port = 465  # For SSL\n",
    "password = input(\"Type your password and press enter: \")\n",
    "\n",
    "# Create a secure SSL context\n",
    "context = ssl.create_default_context()\n",
    "\n",
    "with smtplib.SMTP_SSL(\"smtp.gmail.com\", port, context=context) as server:\n",
    "    server.login(\"my@gmail.com\", password)\n",
    "    # TODO: Send email here\n"
   ]
  },
  {
   "cell_type": "code",
   "execution_count": null,
   "metadata": {},
   "outputs": [],
   "source": []
  },
  {
   "cell_type": "code",
   "execution_count": null,
   "metadata": {},
   "outputs": [],
   "source": []
  },
  {
   "cell_type": "code",
   "execution_count": null,
   "metadata": {},
   "outputs": [],
   "source": [
    "import smtplib\n",
    "\n",
    "def prompt(prompt):\n",
    "    return input(prompt).strip()\n",
    "\n",
    "fromaddr = prompt(\"bk18@iitbbs.ac.in \")\n",
    "toaddrs  = prompt(\"gb12@iitbbs.ac.in \").split()\n",
    "print(\"Enter message, end with ^D (Unix) or ^Z (Windows):\")\n",
    "\n",
    "# Add the From: and To: headers at the start!\n",
    "msg = (\"From: %s\\r\\nTo: %s\\r\\n\\r\\n\"\n",
    "       % (fromaddr, \", \".join(toaddrs)))\n",
    "while True:\n",
    "    try:\n",
    "        line = input()\n",
    "    except EOFError:\n",
    "        break\n",
    "    if not line:\n",
    "        break\n",
    "    msg = msg + line\n",
    "\n",
    "print(\"Message length is\", len(msg))\n",
    "\n",
    "server = smtplib.SMTP('localhost')\n",
    "server.set_debuglevel(1)\n",
    "server.sendmail(fromaddr, toaddrs, msg)\n",
    "server.quit()\n"
   ]
  }
 ],
 "metadata": {
  "kernelspec": {
   "display_name": "Python [conda env:Anaconda3]",
   "language": "python",
   "name": "conda-env-Anaconda3-py"
  },
  "language_info": {
   "codemirror_mode": {
    "name": "ipython",
    "version": 3
   },
   "file_extension": ".py",
   "mimetype": "text/x-python",
   "name": "python",
   "nbconvert_exporter": "python",
   "pygments_lexer": "ipython3",
   "version": "3.5.5"
  }
 },
 "nbformat": 4,
 "nbformat_minor": 2
}
